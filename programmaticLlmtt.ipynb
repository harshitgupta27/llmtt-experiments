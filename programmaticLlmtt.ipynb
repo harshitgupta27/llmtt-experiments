{
 "cells": [
  {
   "cell_type": "code",
   "execution_count": 1,
   "metadata": {},
   "outputs": [
    {
     "name": "stderr",
     "output_type": "stream",
     "text": [
      "/Users/harshitgupta/miniforge3/envs/llmtt2/lib/python3.12/site-packages/tqdm/auto.py:21: TqdmWarning: IProgress not found. Please update jupyter and ipywidgets. See https://ipywidgets.readthedocs.io/en/stable/user_install.html\n",
      "  from .autonotebook import tqdm as notebook_tqdm\n"
     ]
    }
   ],
   "source": [
    "import torch\n",
    "import llm_transparency_tool.routes.graph\n",
    "from llm_transparency_tool.models.tlens_model import TransformerLensTransparentLlm\n",
    "from llm_transparency_tool.models.transparent_llm import TransparentLlm\n",
    "\n",
    "from llm_transparency_tool.models.tlens_model import (\n",
    "TransformerLensTransparentLlm,\n",
    ")\n",
    "model = TransformerLensTransparentLlm(\"meta-llama/Llama-3.2-1B\")\n"
   ]
  },
  {
   "cell_type": "code",
   "execution_count": 2,
   "metadata": {},
   "outputs": [
    {
     "name": "stderr",
     "output_type": "stream",
     "text": [
      "2025-04-28 17:51:00.955 WARNING streamlit.runtime.scriptrunner_utils.script_run_context: Thread 'MainThread': missing ScriptRunContext! This warning can be ignored when running in bare mode.\n",
      "2025-04-28 17:51:01.006 \n",
      "  \u001b[33m\u001b[1mWarning:\u001b[0m to view this Streamlit app on a browser, run it with the following\n",
      "  command:\n",
      "\n",
      "    streamlit run /Users/harshitgupta/miniforge3/envs/llmtt2/lib/python3.12/site-packages/ipykernel_launcher.py [ARGUMENTS]\n",
      "2025-04-28 17:51:01.006 Thread 'MainThread': missing ScriptRunContext! This warning can be ignored when running in bare mode.\n",
      "2025-04-28 17:51:01.006 Thread 'MainThread': missing ScriptRunContext! This warning can be ignored when running in bare mode.\n",
      "2025-04-28 17:51:01.508 Thread 'Thread-4': missing ScriptRunContext! This warning can be ignored when running in bare mode.\n",
      "2025-04-28 17:51:01.509 Thread 'Thread-4': missing ScriptRunContext! This warning can be ignored when running in bare mode.\n",
      "2025-04-28 17:51:15.316 Thread 'MainThread': missing ScriptRunContext! This warning can be ignored when running in bare mode.\n",
      "2025-04-28 17:51:15.321 Thread 'MainThread': missing ScriptRunContext! This warning can be ignored when running in bare mode.\n"
     ]
    },
    {
     "name": "stdout",
     "output_type": "stream",
     "text": [
      "Loaded pretrained model meta-llama/Llama-3.2-1B into HookedTransformer\n"
     ]
    }
   ],
   "source": [
    "model.run(\"John is a good\")\n",
    "\n",
    "graph = llm_transparency_tool.routes.graph.build_full_graph(\n",
    "    model,0,0.4\n",
    ")"
   ]
  },
  {
   "cell_type": "code",
   "execution_count": 3,
   "metadata": {},
   "outputs": [
    {
     "name": "stdout",
     "output_type": "stream",
     "text": [
      "DiGraph with 245 nodes and 640 edges\n",
      "<bound method Graph.edge_subgraph of <networkx.classes.digraph.DiGraph object at 0x1540a7860>>\n",
      "<class 'networkx.classes.digraph.DiGraph'>\n"
     ]
    }
   ],
   "source": [
    "print(graph)\n",
    "print(graph.edge_subgraph)\n",
    "print(type(graph))"
   ]
  },
  {
   "cell_type": "code",
   "execution_count": 4,
   "metadata": {},
   "outputs": [
    {
     "name": "stdout",
     "output_type": "stream",
     "text": [
      "Inference time: 0.1419 seconds\n"
     ]
    }
   ],
   "source": [
    "import time\n",
    "import torch\n",
    "\n",
    "start_time = time.time()\n",
    "output = model.run(\"John is a good\")\n",
    "torch.mps.synchronize()  # Ensures all MPS operations are complete\n",
    "end_time = time.time()\n",
    "\n",
    "inference_time = end_time - start_time\n",
    "print(f\"Inference time: {inference_time:.4f} seconds\")\n"
   ]
  },
  {
   "cell_type": "code",
   "execution_count": 7,
   "metadata": {},
   "outputs": [
    {
     "name": "stdout",
     "output_type": "stream",
     "text": [
      "None\n"
     ]
    }
   ],
   "source": [
    "print(output)"
   ]
  },
  {
   "cell_type": "code",
   "execution_count": null,
   "metadata": {},
   "outputs": [],
   "source": [
    "import time\n",
    "import torch\n",
    "from tqdm import tqdm\n",
    "\n",
    "def time_inference(model, prompts, num_runs=10):\n",
    "    times = []\n",
    "    for _ in range(num_runs):\n",
    "        for prompt in tqdm(prompts):\n",
    "            start = time.time()\n",
    "            output = model.run(prompt)\n",
    "            torch.mps.synchronize()  # Critical for MPS accuracy\n",
    "            end = time.time()\n",
    "            times.append(end - start)\n",
    "    return sum(times)/len(times)\n",
    "\n",
    "mbpp_prompts = [\n",
    "    \"Write a function to find the minimum cost path to reach (m, n) from (0, 0) for the given cost matrix cost[][] and a position (m, n) in cost[][].\"\n",
    "    \"Write a function to find the similar elements from the given two tuple lists.\",\n",
    "    \"Write a python function to identify non-prime numbers.\",\n",
    "    \"Write a function to find the largest integers from a given list of numbers using heap queue algorithm.\",\n",
    "    \"Write a function to find the number of ways to fill it with 2 x 1 dominoes for the given 3 x n board.\",\n",
    "    \"Write a python function to check whether the two numbers differ at one bit position only or not.\",\n",
    "    \"Write a function to find all words which are at least 4 characters long in a string by using regex.\",\n",
    "    \"Write a function to find squares of individual elements in a list using lambda function.\",\n",
    "    \"Write a python function to find the minimum number of rotations required to get the same string.\",\n",
    "    \"Write a function to get the n smallest items from a dataset.\",\n",
    "]\n",
    "\n",
    "avg_time = time_inference(model, mbpp_prompts)\n",
    "print(avg_time)\n"
   ]
  }
 ],
 "metadata": {
  "kernelspec": {
   "display_name": "llmtt2",
   "language": "python",
   "name": "python3"
  },
  "language_info": {
   "codemirror_mode": {
    "name": "ipython",
    "version": 3
   },
   "file_extension": ".py",
   "mimetype": "text/x-python",
   "name": "python",
   "nbconvert_exporter": "python",
   "pygments_lexer": "ipython3",
   "version": "3.12.9"
  }
 },
 "nbformat": 4,
 "nbformat_minor": 2
}
